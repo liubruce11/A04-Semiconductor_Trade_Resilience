import pandas as pd
import plotly.express as px
url_uncomtrade_clean = "https://raw.githubusercontent.com/liubruce11/A04-Semiconductor_Trade_Resilience/refs/heads/main/uncomtrade_clean.csv"

df = pd.read_csv(url_uncomtrade_clean)

df["primaryvalue"] = df[" primaryvalue "].str.replace(r'[$,]', '', regex=True).astype(float)

trade_summary = df.groupby(["refyear", "reporteriso", "reporterdesc"])["primaryvalue"].sum().reset_index()


fig = px.choropleth(
    trade_summary,
    locations="reporteriso",
    color="primaryvalue",
    hover_name="reporterdesc",
    animation_frame="refyear",
    color_continuous_scale="Viridis",
    title="Global Trade Value by Country primary lavue = import+export ",
    labels={"primaryvalue": "Total import and export value(USD)"}
) 

fig.show()
